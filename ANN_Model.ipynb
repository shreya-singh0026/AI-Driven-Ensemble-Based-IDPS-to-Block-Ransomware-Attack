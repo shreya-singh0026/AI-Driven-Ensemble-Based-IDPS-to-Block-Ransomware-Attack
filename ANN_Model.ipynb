{
 "cells": [
  {
   "cell_type": "markdown",
   "id": "d4ee11d4-0be4-4b89-9354-5a785ff88411",
   "metadata": {},
   "source": [
    "## ANN Model"
   ]
  },
  {
   "cell_type": "code",
   "execution_count": 5,
   "id": "c705ae47-f5a0-4588-b0f6-f6c33b9decf1",
   "metadata": {},
   "outputs": [],
   "source": [
    "# For working with numbers and data\n",
    "import numpy as np\n",
    "import pandas as pd\n",
    "\n",
    "# For making graphs and charts\n",
    "import seaborn as sns\n",
    "import matplotlib.pyplot as plt\n",
    "\n",
    "# For converting text labels to numbers and scaling data\n",
    "from sklearn.preprocessing import LabelEncoder\n",
    "from sklearn.preprocessing import StandardScaler\n",
    "\n",
    "# For splitting the data into training and testing\n",
    "from sklearn.model_selection import train_test_split\n",
    "\n",
    "# Machine learning models\n",
    "from sklearn.ensemble import RandomForestClassifier     # Random Forest\n",
    "from sklearn.svm import SVC                             # Support Vector Machine\n",
    "from sklearn.naive_bayes import GaussianNB              # Naive Bayes\n",
    "from sklearn.ensemble import StackingClassifier         # Combining models\n",
    "\n",
    "# For checking model accuracy and performance\n",
    "from sklearn.metrics import accuracy_score, precision_score, recall_score, f1_score\n",
    "from sklearn.metrics import confusion_matrix, classification_report\n",
    "\n",
    "# For deep learning (neural networks)\n",
    "from tensorflow import keras\n",
    "from tensorflow.keras import layers\n",
    "from tensorflow.keras.callbacks import EarlyStopping    # To stop training early if needed\n",
    "\n",
    "# To ignore warning messages\n",
    "import warnings\n",
    "warnings.filterwarnings(\"ignore\")"
   ]
  },
  {
   "cell_type": "code",
   "execution_count": 6,
   "id": "0c82f649-fa0d-4841-8a88-809cbfa5d49e",
   "metadata": {},
   "outputs": [],
   "source": [
    "import numpy as np  # Importing NumPy for loading .npz files\n",
    "\n",
    "# Load the previously saved train-test split from the .npz file\n",
    "data = np.load('Dataset/train_test_split.npz')\n",
    "\n",
    "# Extract the training features\n",
    "X_train = data['X_train']\n",
    "\n",
    "# Extract the testing features\n",
    "X_test = data['X_test']\n",
    "\n",
    "# Extract the training labels\n",
    "y_train = data['y_train']\n",
    "\n",
    "# Extract the testing labels\n",
    "y_test = data['y_test']\n"
   ]
  },
  {
   "cell_type": "code",
   "execution_count": 7,
   "id": "064a3b45-c361-46f6-9f7a-c24f6362afd7",
   "metadata": {},
   "outputs": [
    {
     "name": "stdout",
     "output_type": "stream",
     "text": [
      "Epoch 1/50\n",
      "\u001b[1m7002/7002\u001b[0m \u001b[32m━━━━━━━━━━━━━━━━━━━━\u001b[0m\u001b[37m\u001b[0m \u001b[1m19s\u001b[0m 2ms/step - accuracy: 0.8862 - loss: 0.3003 - val_accuracy: 0.9427 - val_loss: 0.1520\n",
      "Epoch 2/50\n",
      "\u001b[1m7002/7002\u001b[0m \u001b[32m━━━━━━━━━━━━━━━━━━━━\u001b[0m\u001b[37m\u001b[0m \u001b[1m14s\u001b[0m 2ms/step - accuracy: 0.9556 - loss: 0.1214 - val_accuracy: 0.9570 - val_loss: 0.1092\n",
      "Epoch 3/50\n",
      "\u001b[1m7002/7002\u001b[0m \u001b[32m━━━━━━━━━━━━━━━━━━━━\u001b[0m\u001b[37m\u001b[0m \u001b[1m14s\u001b[0m 2ms/step - accuracy: 0.9574 - loss: 0.1135 - val_accuracy: 0.9574 - val_loss: 0.1122\n",
      "Epoch 4/50\n",
      "\u001b[1m7002/7002\u001b[0m \u001b[32m━━━━━━━━━━━━━━━━━━━━\u001b[0m\u001b[37m\u001b[0m \u001b[1m14s\u001b[0m 2ms/step - accuracy: 0.9596 - loss: 0.1083 - val_accuracy: 0.9583 - val_loss: 0.1084\n",
      "Epoch 5/50\n",
      "\u001b[1m7002/7002\u001b[0m \u001b[32m━━━━━━━━━━━━━━━━━━━━\u001b[0m\u001b[37m\u001b[0m \u001b[1m14s\u001b[0m 2ms/step - accuracy: 0.9607 - loss: 0.1042 - val_accuracy: 0.9609 - val_loss: 0.0973\n",
      "Epoch 6/50\n",
      "\u001b[1m7002/7002\u001b[0m \u001b[32m━━━━━━━━━━━━━━━━━━━━\u001b[0m\u001b[37m\u001b[0m \u001b[1m14s\u001b[0m 2ms/step - accuracy: 0.9625 - loss: 0.1001 - val_accuracy: 0.9621 - val_loss: 0.0975\n",
      "Epoch 7/50\n",
      "\u001b[1m7002/7002\u001b[0m \u001b[32m━━━━━━━━━━━━━━━━━━━━\u001b[0m\u001b[37m\u001b[0m \u001b[1m14s\u001b[0m 2ms/step - accuracy: 0.9628 - loss: 0.0979 - val_accuracy: 0.9612 - val_loss: 0.0990\n",
      "Epoch 8/50\n",
      "\u001b[1m7002/7002\u001b[0m \u001b[32m━━━━━━━━━━━━━━━━━━━━\u001b[0m\u001b[37m\u001b[0m \u001b[1m14s\u001b[0m 2ms/step - accuracy: 0.9628 - loss: 0.0982 - val_accuracy: 0.9575 - val_loss: 0.1023\n",
      "Epoch 9/50\n",
      "\u001b[1m7002/7002\u001b[0m \u001b[32m━━━━━━━━━━━━━━━━━━━━\u001b[0m\u001b[37m\u001b[0m \u001b[1m14s\u001b[0m 2ms/step - accuracy: 0.9630 - loss: 0.0956 - val_accuracy: 0.9626 - val_loss: 0.0956\n",
      "Epoch 10/50\n",
      "\u001b[1m7002/7002\u001b[0m \u001b[32m━━━━━━━━━━━━━━━━━━━━\u001b[0m\u001b[37m\u001b[0m \u001b[1m14s\u001b[0m 2ms/step - accuracy: 0.9644 - loss: 0.0934 - val_accuracy: 0.9627 - val_loss: 0.0931\n",
      "Epoch 11/50\n",
      "\u001b[1m7002/7002\u001b[0m \u001b[32m━━━━━━━━━━━━━━━━━━━━\u001b[0m\u001b[37m\u001b[0m \u001b[1m14s\u001b[0m 2ms/step - accuracy: 0.9626 - loss: 0.0959 - val_accuracy: 0.9604 - val_loss: 0.0961\n",
      "Epoch 12/50\n",
      "\u001b[1m7002/7002\u001b[0m \u001b[32m━━━━━━━━━━━━━━━━━━━━\u001b[0m\u001b[37m\u001b[0m \u001b[1m14s\u001b[0m 2ms/step - accuracy: 0.9628 - loss: 0.0949 - val_accuracy: 0.9628 - val_loss: 0.0929\n",
      "Epoch 13/50\n",
      "\u001b[1m7002/7002\u001b[0m \u001b[32m━━━━━━━━━━━━━━━━━━━━\u001b[0m\u001b[37m\u001b[0m \u001b[1m14s\u001b[0m 2ms/step - accuracy: 0.9642 - loss: 0.0921 - val_accuracy: 0.9597 - val_loss: 0.0949\n",
      "Epoch 14/50\n",
      "\u001b[1m7002/7002\u001b[0m \u001b[32m━━━━━━━━━━━━━━━━━━━━\u001b[0m\u001b[37m\u001b[0m \u001b[1m14s\u001b[0m 2ms/step - accuracy: 0.9649 - loss: 0.0921 - val_accuracy: 0.9646 - val_loss: 0.0930\n",
      "Epoch 15/50\n",
      "\u001b[1m7002/7002\u001b[0m \u001b[32m━━━━━━━━━━━━━━━━━━━━\u001b[0m\u001b[37m\u001b[0m \u001b[1m14s\u001b[0m 2ms/step - accuracy: 0.9643 - loss: 0.0917 - val_accuracy: 0.9622 - val_loss: 0.0944\n",
      "Epoch 16/50\n",
      "\u001b[1m7002/7002\u001b[0m \u001b[32m━━━━━━━━━━━━━━━━━━━━\u001b[0m\u001b[37m\u001b[0m \u001b[1m14s\u001b[0m 2ms/step - accuracy: 0.9645 - loss: 0.0902 - val_accuracy: 0.9626 - val_loss: 0.0897\n",
      "Epoch 17/50\n",
      "\u001b[1m7002/7002\u001b[0m \u001b[32m━━━━━━━━━━━━━━━━━━━━\u001b[0m\u001b[37m\u001b[0m \u001b[1m14s\u001b[0m 2ms/step - accuracy: 0.9648 - loss: 0.0900 - val_accuracy: 0.9627 - val_loss: 0.0996\n",
      "Epoch 18/50\n",
      "\u001b[1m7002/7002\u001b[0m \u001b[32m━━━━━━━━━━━━━━━━━━━━\u001b[0m\u001b[37m\u001b[0m \u001b[1m14s\u001b[0m 2ms/step - accuracy: 0.9643 - loss: 0.0901 - val_accuracy: 0.9653 - val_loss: 0.0926\n",
      "Epoch 19/50\n",
      "\u001b[1m7002/7002\u001b[0m \u001b[32m━━━━━━━━━━━━━━━━━━━━\u001b[0m\u001b[37m\u001b[0m \u001b[1m14s\u001b[0m 2ms/step - accuracy: 0.9634 - loss: 0.0909 - val_accuracy: 0.9630 - val_loss: 0.0897\n",
      "Epoch 20/50\n",
      "\u001b[1m7002/7002\u001b[0m \u001b[32m━━━━━━━━━━━━━━━━━━━━\u001b[0m\u001b[37m\u001b[0m \u001b[1m14s\u001b[0m 2ms/step - accuracy: 0.9644 - loss: 0.0887 - val_accuracy: 0.9618 - val_loss: 0.0947\n",
      "Epoch 21/50\n",
      "\u001b[1m7002/7002\u001b[0m \u001b[32m━━━━━━━━━━━━━━━━━━━━\u001b[0m\u001b[37m\u001b[0m \u001b[1m14s\u001b[0m 2ms/step - accuracy: 0.9647 - loss: 0.0897 - val_accuracy: 0.9653 - val_loss: 0.0879\n",
      "Epoch 22/50\n",
      "\u001b[1m7002/7002\u001b[0m \u001b[32m━━━━━━━━━━━━━━━━━━━━\u001b[0m\u001b[37m\u001b[0m \u001b[1m14s\u001b[0m 2ms/step - accuracy: 0.9646 - loss: 0.0889 - val_accuracy: 0.9630 - val_loss: 0.0960\n",
      "Epoch 23/50\n",
      "\u001b[1m7002/7002\u001b[0m \u001b[32m━━━━━━━━━━━━━━━━━━━━\u001b[0m\u001b[37m\u001b[0m \u001b[1m14s\u001b[0m 2ms/step - accuracy: 0.9656 - loss: 0.0862 - val_accuracy: 0.9644 - val_loss: 0.0881\n",
      "Epoch 24/50\n",
      "\u001b[1m7002/7002\u001b[0m \u001b[32m━━━━━━━━━━━━━━━━━━━━\u001b[0m\u001b[37m\u001b[0m \u001b[1m14s\u001b[0m 2ms/step - accuracy: 0.9658 - loss: 0.0872 - val_accuracy: 0.9637 - val_loss: 0.0888\n",
      "Epoch 25/50\n",
      "\u001b[1m7002/7002\u001b[0m \u001b[32m━━━━━━━━━━━━━━━━━━━━\u001b[0m\u001b[37m\u001b[0m \u001b[1m14s\u001b[0m 2ms/step - accuracy: 0.9649 - loss: 0.0886 - val_accuracy: 0.9642 - val_loss: 0.0892\n",
      "Epoch 26/50\n",
      "\u001b[1m7002/7002\u001b[0m \u001b[32m━━━━━━━━━━━━━━━━━━━━\u001b[0m\u001b[37m\u001b[0m \u001b[1m14s\u001b[0m 2ms/step - accuracy: 0.9649 - loss: 0.0887 - val_accuracy: 0.9623 - val_loss: 0.0936\n",
      "Epoch 26: early stopping\n"
     ]
    }
   ],
   "source": [
    "model = keras.Sequential([\n",
    "    layers.Dense(16, activation=\"relu\", input_shape=(X_train.shape[1],)),\n",
    "    layers.Dense(32, activation=\"selu\"), \n",
    "    layers.Dense(32, activation='selu'),\n",
    "    layers.Dense(16, activation='selu'),\n",
    "    layers.Dense(4, activation=\"softmax\")  \n",
    "])\n",
    "\n",
    "model.compile(optimizer=\"adam\", loss=\"sparse_categorical_crossentropy\", metrics=[\"accuracy\"])\n",
    "\n",
    "early_stopping = EarlyStopping(monitor='val_loss', patience=5, verbose=1)\n",
    "\n",
    "history = model.fit(X_train, y_train, epochs=50, batch_size=16, \n",
    "                    callbacks=[early_stopping], validation_split=0.2)"
   ]
  },
  {
   "cell_type": "code",
   "execution_count": 8,
   "id": "09d74090-e22d-41e9-933d-42943dc093b7",
   "metadata": {},
   "outputs": [
    {
     "name": "stdout",
     "output_type": "stream",
     "text": [
      "\u001b[1m1876/1876\u001b[0m \u001b[32m━━━━━━━━━━━━━━━━━━━━\u001b[0m\u001b[37m\u001b[0m \u001b[1m3s\u001b[0m 2ms/step - accuracy: 0.9635 - loss: 0.0935\n",
      "Test accuracy: 0.964\n",
      "\u001b[1m1876/1876\u001b[0m \u001b[32m━━━━━━━━━━━━━━━━━━━━\u001b[0m\u001b[37m\u001b[0m \u001b[1m2s\u001b[0m 1ms/step\n",
      "[3 0 1 ... 3 1 1]\n"
     ]
    }
   ],
   "source": [
    "test_loss, ann_accuracy = model.evaluate(X_test, y_test)\n",
    "print(\"Test accuracy:\", round(ann_accuracy, 3))\n",
    "\n",
    "y_pred = model.predict(X_test)\n",
    "y_pred_class = np.argmax(y_pred, axis=1)\n",
    "print(y_pred_class)"
   ]
  },
  {
   "cell_type": "code",
   "execution_count": 9,
   "id": "6ea1f3a5-4b5a-4631-a78a-16584ff5f6f8",
   "metadata": {},
   "outputs": [
    {
     "name": "stdout",
     "output_type": "stream",
     "text": [
      "Classification Report:\n",
      "              precision    recall  f1-score   support\n",
      "\n",
      "           0       0.94      0.90      0.92     12784\n",
      "           1       0.95      0.98      0.96     19820\n",
      "           2       0.97      0.96      0.97     12092\n",
      "           3       1.00      1.00      1.00     15317\n",
      "\n",
      "    accuracy                           0.96     60013\n",
      "   macro avg       0.97      0.96      0.96     60013\n",
      "weighted avg       0.96      0.96      0.96     60013\n",
      "\n"
     ]
    }
   ],
   "source": [
    "class_report = classification_report(y_test, y_pred_class)\n",
    "print('Classification Report:')\n",
    "print(class_report)"
   ]
  },
  {
   "cell_type": "code",
   "execution_count": 10,
   "id": "9a75b4ad-0ba6-41bd-9615-b5b903596029",
   "metadata": {},
   "outputs": [
    {
     "data": {
      "image/png": "[encoded data removed]",
      "text/plain": [
       "<Figure size 800x600 with 1 Axes>"
      ]
     },
     "metadata": {},
     "output_type": "display_data"
    }
   ],
   "source": [
    "conf_matrix = confusion_matrix(y_test, y_pred_class)\n",
    "plt.figure(figsize=(8, 6))\n",
    "sns.heatmap(conf_matrix, annot=True, fmt='d', cmap='viridis', cbar=False,\n",
    "            xticklabels=[\"0:A\", \"1:S\", \"2:SS\", \"3:B\"], yticklabels=[\"0:A\", \"1:S\", \"2:SS\", \"3:B\"])\n",
    "plt.xlabel('Predicted Labels')\n",
    "plt.ylabel('True Labels')\n",
    "plt.title('Confusion Matrix')\n",
    "plt.show()"
   ]
  },
  {
   "cell_type": "code",
   "execution_count": 11,
   "id": "df563f70-51e6-4746-9917-2ffbb81267a2",
   "metadata": {},
   "outputs": [
    {
     "name": "stdout",
     "output_type": "stream",
     "text": [
      "\n",
      "🚨 False Positives Per Class:\n",
      "  ➤ Class 0 (Label: A): 687\n",
      "  ➤ Class 1 (Label: S): 1103\n",
      "  ➤ Class 2 (Label: SS): 352\n",
      "  ➤ Class 3 (Label: B): 0\n",
      "\n",
      "❗ Total False Positives: 2142\n"
     ]
    }
   ],
   "source": [
    "# False Positives per class: sum of column minus diagonal\n",
    "false_positives_per_class = conf_matrix.sum(axis=0) - np.diag(conf_matrix)\n",
    "\n",
    "# Total False Positives\n",
    "ann_tfp = false_positives_per_class.sum()\n",
    "\n",
    "# Display\n",
    "print(\"\\n🚨 False Positives Per Class:\")\n",
    "for i, fp in enumerate(false_positives_per_class):\n",
    "    print(f\"  ➤ Class {i} (Label: {'A' if i==0 else 'S' if i==1 else 'SS' if i==2 else 'B'}): {fp}\")\n",
    "\n",
    "print(\"\\n❗ Total False Positives:\", ann_tfp)"
   ]
  },
  {
   "cell_type": "code",
   "execution_count": 12,
   "id": "01e21ba8-ecba-4a25-be80-6526c8b46901",
   "metadata": {},
   "outputs": [],
   "source": [
    "# Save the full model\n",
    "model.save(\"Model/ann_model.keras\")"
   ]
  }
 ],
 "metadata": {
  "kernelspec": {
   "display_name": "Python 3 (ipykernel)",
   "language": "python",
   "name": "python3"
  },
  "language_info": {
   "codemirror_mode": {
    "name": "ipython",
    "version": 3
   },
   "file_extension": ".py",
   "mimetype": "text/x-python",
   "name": "python",
   "nbconvert_exporter": "python",
   "pygments_lexer": "ipython3",
   "version": "3.12.7"
  }
 },
 "nbformat": 4,
 "nbformat_minor": 5
}
